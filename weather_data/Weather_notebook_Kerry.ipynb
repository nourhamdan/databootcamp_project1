{
 "cells": [
  {
   "cell_type": "code",
   "execution_count": 2,
   "metadata": {},
   "outputs": [
    {
     "output_type": "execute_result",
     "data": {
      "text/plain": [
       "   Unnamed: 0  Year  State  ...   COUNTY_STATE  Wheat Yield Soybean Yield\n",
       "0         526  2019  TEXAS  ...    BELL, TEXAS          NaN           NaN\n",
       "1         527  2019  TEXAS  ...  COLLIN, TEXAS          NaN           NaN\n",
       "2         528  2019  TEXAS  ...   COOKE, TEXAS          NaN           NaN\n",
       "3         529  2019  TEXAS  ...   ELLIS, TEXAS          NaN           NaN\n",
       "4         530  2019  TEXAS  ...  FANNIN, TEXAS          NaN           NaN\n",
       "\n",
       "[5 rows x 8 columns]"
      ],
      "text/html": "<div>\n<style scoped>\n    .dataframe tbody tr th:only-of-type {\n        vertical-align: middle;\n    }\n\n    .dataframe tbody tr th {\n        vertical-align: top;\n    }\n\n    .dataframe thead th {\n        text-align: right;\n    }\n</style>\n<table border=\"1\" class=\"dataframe\">\n  <thead>\n    <tr style=\"text-align: right;\">\n      <th></th>\n      <th>Unnamed: 0</th>\n      <th>Year</th>\n      <th>State</th>\n      <th>County</th>\n      <th>Corn Yield</th>\n      <th>COUNTY_STATE</th>\n      <th>Wheat Yield</th>\n      <th>Soybean Yield</th>\n    </tr>\n  </thead>\n  <tbody>\n    <tr>\n      <th>0</th>\n      <td>526</td>\n      <td>2019</td>\n      <td>TEXAS</td>\n      <td>BELL</td>\n      <td>105.8</td>\n      <td>BELL, TEXAS</td>\n      <td>NaN</td>\n      <td>NaN</td>\n    </tr>\n    <tr>\n      <th>1</th>\n      <td>527</td>\n      <td>2019</td>\n      <td>TEXAS</td>\n      <td>COLLIN</td>\n      <td>90.4</td>\n      <td>COLLIN, TEXAS</td>\n      <td>NaN</td>\n      <td>NaN</td>\n    </tr>\n    <tr>\n      <th>2</th>\n      <td>528</td>\n      <td>2019</td>\n      <td>TEXAS</td>\n      <td>COOKE</td>\n      <td>118.5</td>\n      <td>COOKE, TEXAS</td>\n      <td>NaN</td>\n      <td>NaN</td>\n    </tr>\n    <tr>\n      <th>3</th>\n      <td>529</td>\n      <td>2019</td>\n      <td>TEXAS</td>\n      <td>ELLIS</td>\n      <td>81.0</td>\n      <td>ELLIS, TEXAS</td>\n      <td>NaN</td>\n      <td>NaN</td>\n    </tr>\n    <tr>\n      <th>4</th>\n      <td>530</td>\n      <td>2019</td>\n      <td>TEXAS</td>\n      <td>FANNIN</td>\n      <td>88.8</td>\n      <td>FANNIN, TEXAS</td>\n      <td>NaN</td>\n      <td>NaN</td>\n    </tr>\n  </tbody>\n</table>\n</div>"
     },
     "metadata": {},
     "execution_count": 2
    }
   ],
   "source": [
    "import pandas as pd\n",
    "import matplotlib.pyplot as plt\n",
    "import ipywidgets as widgets\n",
    "import scipy.stats as st\n",
    "\n",
    "ia_weather = pd.read_csv('ia_final.csv')\n",
    "il_weather = pd.read_csv('il_final.csv')\n",
    "ks_weather = pd.read_csv('ks_final.csv')\n",
    "mo_weather = pd.read_csv('mo_final.csv')\n",
    "tx_weather = pd.read_csv('tx_final.csv')\n",
    "#ia_weather.head()\n",
    "ia_yields = pd.read_csv('ia_yields.csv')\n",
    "il_yields = pd.read_csv('il_yields.csv')\n",
    "ks_yields = pd.read_csv('ks_yields.csv')\n",
    "mo_yields = pd.read_csv('mo_yields.csv')\n",
    "tx_yields = pd.read_csv('tx_yields.csv')\n",
    "# tx_yields.head()"
   ]
  },
  {
   "cell_type": "code",
   "execution_count": null,
   "metadata": {},
   "outputs": [],
   "source": []
  }
 ],
 "metadata": {
  "kernelspec": {
   "display_name": "Python 3",
   "language": "python",
   "name": "python3"
  },
  "language_info": {
   "codemirror_mode": {
    "name": "ipython",
    "version": 3
   },
   "file_extension": ".py",
   "mimetype": "text/x-python",
   "name": "python",
   "nbconvert_exporter": "python",
   "pygments_lexer": "ipython3",
   "version": "3.8.5-final"
  }
 },
 "nbformat": 4,
 "nbformat_minor": 4
}