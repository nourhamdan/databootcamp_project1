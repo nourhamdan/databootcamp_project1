{
 "metadata": {
  "language_info": {
   "codemirror_mode": {
    "name": "ipython",
    "version": 3
   },
   "file_extension": ".py",
   "mimetype": "text/x-python",
   "name": "python",
   "nbconvert_exporter": "python",
   "pygments_lexer": "ipython3",
   "version": "3.8.5-final"
  },
  "orig_nbformat": 2,
  "kernelspec": {
   "name": "python3",
   "display_name": "Python 3",
   "language": "python"
  }
 },
 "nbformat": 4,
 "nbformat_minor": 2,
 "cells": [
  {
   "cell_type": "code",
   "execution_count": 7,
   "metadata": {},
   "outputs": [
    {
     "output_type": "stream",
     "name": "stdout",
     "text": [
      "{\n  \"error\": [\n    \"unauthorized\"\n  ]\n}\n"
     ]
    }
   ],
   "source": [
    "# Dependencies\n",
    "import json\n",
    "import requests\n",
    "\n",
    "#USDA developer API Key\n",
    "from config import api_key\n",
    "\n",
    "# from config import api_key\n",
    "\n",
    "# Save config information\n",
    "url = \"http://quickstats.nass.usda.gov/api/api_GET/?key=api key\"\n",
    "\n",
    "# response = requests.get(url)\n",
    "# print(response)\n",
    "\n",
    "data_response = requests.get(url)\n",
    "data_json = data_response.json()\n",
    "print(json.dumps(data_json, indent = 2))"
   ]
  },
  {
   "cell_type": "code",
   "execution_count": 3,
   "metadata": {},
   "outputs": [
    {
     "output_type": "stream",
     "name": "stdout",
     "text": [
      "{'error': ['unauthorized']}\n"
     ]
    }
   ],
   "source": [
    "response_json = response.json()\n",
    "print(response_json)"
   ]
  },
  {
   "cell_type": "code",
   "execution_count": null,
   "metadata": {},
   "outputs": [],
   "source": []
  }
 ]
}