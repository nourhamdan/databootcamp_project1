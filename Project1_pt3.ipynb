{
 "cells": [
  {
   "cell_type": "code",
   "execution_count": 118,
   "metadata": {},
   "outputs": [],
   "source": [
    "import pandas as pd\n",
    "import requests\n",
    "from IPython.display import clear_output\n",
    "import matplotlib.pyplot as plt\n",
    "import datetime\n",
    "import numpy as np"
   ]
  },
  {
   "cell_type": "code",
   "execution_count": 119,
   "metadata": {},
   "outputs": [],
   "source": [
    "#read weather CSV data file and crop yield files by state\n",
    "df = pd.read_csv('aggregated_weather.csv')\n",
    "mo_yields_df = pd.read_csv('mo_yields.csv')\n",
    "tx_yields_df = pd.read_csv('tx_yields.csv')\n",
    "il_yields_df = pd.read_csv('il_yields.csv')\n",
    "ia_yields_df = pd.read_csv('ia_yields.csv')\n",
    "ks_yields_df = pd.read_csv('ks_yields.csv')\n"
   ]
  },
  {
   "cell_type": "code",
   "execution_count": 120,
   "metadata": {},
   "outputs": [
    {
     "data": {
      "text/plain": [
       "dtype('O')"
      ]
     },
     "execution_count": 120,
     "metadata": {},
     "output_type": "execute_result"
    }
   ],
   "source": [
    "df['DATE'].dtype"
   ]
  },
  {
   "cell_type": "code",
   "execution_count": 121,
   "metadata": {},
   "outputs": [],
   "source": [
    "ks_yields_df['Year']=ks_yields_df['Year'].astype('str')\n",
    "mo_yields_df['Year']=mo_yields_df['Year'].astype('str')\n",
    "il_yields_df['Year']=il_yields_df['Year'].astype('str')\n",
    "ia_yields_df['Year']=ia_yields_df['Year'].astype('str')\n",
    "tx_yields_df['Year']=tx_yields_df['Year'].astype('str')"
   ]
  },
  {
   "cell_type": "code",
   "execution_count": 128,
   "metadata": {},
   "outputs": [],
   "source": [
    "df['DATE']=pd.to_datetime(df['DATE'])\n",
    "df['MONTH']=[d.strftime('%B')for d in df['DATE']]\n",
    "df['YEAR']=[d.strftime('%Y')for d in df['DATE']]"
   ]
  },
  {
   "cell_type": "code",
   "execution_count": 140,
   "metadata": {},
   "outputs": [
    {
     "data": {
      "text/html": [
       "<div>\n",
       "<style scoped>\n",
       "    .dataframe tbody tr th:only-of-type {\n",
       "        vertical-align: middle;\n",
       "    }\n",
       "\n",
       "    .dataframe tbody tr th {\n",
       "        vertical-align: top;\n",
       "    }\n",
       "\n",
       "    .dataframe thead th {\n",
       "        text-align: right;\n",
       "    }\n",
       "</style>\n",
       "<table border=\"1\" class=\"dataframe\">\n",
       "  <thead>\n",
       "    <tr style=\"text-align: right;\">\n",
       "      <th></th>\n",
       "      <th>STATION</th>\n",
       "      <th>Precipitation (Inches)</th>\n",
       "      <th>DATE</th>\n",
       "      <th>Average daily wind speed (MPH)</th>\n",
       "      <th>Maximum temperature (F)</th>\n",
       "      <th>Minimum temperature (F)</th>\n",
       "      <th>COUNTY_STATE</th>\n",
       "      <th>COUNTY</th>\n",
       "      <th>STATE</th>\n",
       "      <th>MONTH</th>\n",
       "      <th>YEAR</th>\n",
       "    </tr>\n",
       "  </thead>\n",
       "  <tbody>\n",
       "    <tr>\n",
       "      <th>0</th>\n",
       "      <td>USW00013993</td>\n",
       "      <td>0.0</td>\n",
       "      <td>2000-01-01</td>\n",
       "      <td>8.50</td>\n",
       "      <td>60</td>\n",
       "      <td>30</td>\n",
       "      <td>BUCHANAN, MISSOURI</td>\n",
       "      <td>BUCHANAN</td>\n",
       "      <td>MISSOURI</td>\n",
       "      <td>January</td>\n",
       "      <td>2000</td>\n",
       "    </tr>\n",
       "    <tr>\n",
       "      <th>1</th>\n",
       "      <td>USW00013993</td>\n",
       "      <td>0.0</td>\n",
       "      <td>2000-01-02</td>\n",
       "      <td>11.63</td>\n",
       "      <td>56</td>\n",
       "      <td>29</td>\n",
       "      <td>BUCHANAN, MISSOURI</td>\n",
       "      <td>BUCHANAN</td>\n",
       "      <td>MISSOURI</td>\n",
       "      <td>January</td>\n",
       "      <td>2000</td>\n",
       "    </tr>\n",
       "    <tr>\n",
       "      <th>2</th>\n",
       "      <td>USW00013993</td>\n",
       "      <td>0.0</td>\n",
       "      <td>2000-01-03</td>\n",
       "      <td>14.09</td>\n",
       "      <td>37</td>\n",
       "      <td>30</td>\n",
       "      <td>BUCHANAN, MISSOURI</td>\n",
       "      <td>BUCHANAN</td>\n",
       "      <td>MISSOURI</td>\n",
       "      <td>January</td>\n",
       "      <td>2000</td>\n",
       "    </tr>\n",
       "    <tr>\n",
       "      <th>3</th>\n",
       "      <td>USW00013993</td>\n",
       "      <td>0.0</td>\n",
       "      <td>2000-01-04</td>\n",
       "      <td>12.30</td>\n",
       "      <td>30</td>\n",
       "      <td>13</td>\n",
       "      <td>BUCHANAN, MISSOURI</td>\n",
       "      <td>BUCHANAN</td>\n",
       "      <td>MISSOURI</td>\n",
       "      <td>January</td>\n",
       "      <td>2000</td>\n",
       "    </tr>\n",
       "    <tr>\n",
       "      <th>4</th>\n",
       "      <td>USW00013993</td>\n",
       "      <td>0.0</td>\n",
       "      <td>2000-01-05</td>\n",
       "      <td>12.75</td>\n",
       "      <td>49</td>\n",
       "      <td>16</td>\n",
       "      <td>BUCHANAN, MISSOURI</td>\n",
       "      <td>BUCHANAN</td>\n",
       "      <td>MISSOURI</td>\n",
       "      <td>January</td>\n",
       "      <td>2000</td>\n",
       "    </tr>\n",
       "  </tbody>\n",
       "</table>\n",
       "</div>"
      ],
      "text/plain": [
       "       STATION  Precipitation (Inches)       DATE  \\\n",
       "0  USW00013993                     0.0 2000-01-01   \n",
       "1  USW00013993                     0.0 2000-01-02   \n",
       "2  USW00013993                     0.0 2000-01-03   \n",
       "3  USW00013993                     0.0 2000-01-04   \n",
       "4  USW00013993                     0.0 2000-01-05   \n",
       "\n",
       "   Average daily wind speed (MPH)  Maximum temperature (F)  \\\n",
       "0                            8.50                       60   \n",
       "1                           11.63                       56   \n",
       "2                           14.09                       37   \n",
       "3                           12.30                       30   \n",
       "4                           12.75                       49   \n",
       "\n",
       "   Minimum temperature (F)        COUNTY_STATE    COUNTY     STATE    MONTH  \\\n",
       "0                       30  BUCHANAN, MISSOURI  BUCHANAN  MISSOURI  January   \n",
       "1                       29  BUCHANAN, MISSOURI  BUCHANAN  MISSOURI  January   \n",
       "2                       30  BUCHANAN, MISSOURI  BUCHANAN  MISSOURI  January   \n",
       "3                       13  BUCHANAN, MISSOURI  BUCHANAN  MISSOURI  January   \n",
       "4                       16  BUCHANAN, MISSOURI  BUCHANAN  MISSOURI  January   \n",
       "\n",
       "   YEAR  \n",
       "0  2000  \n",
       "1  2000  \n",
       "2  2000  \n",
       "3  2000  \n",
       "4  2000  "
      ]
     },
     "execution_count": 140,
     "metadata": {},
     "output_type": "execute_result"
    }
   ],
   "source": [
    "#clean up the data by removing unnecessary columns and merging COUNTY_STATE\n",
    "df['COUNTY_STATE']=df['COUNTY']+', '+df['STATE']\n",
    "df=df.drop(columns=['Fastest 2-minute wind speed (MPH)','LONGITUDE','LATITUDE','Fastest 5-minute wind speed (MPH)','Direction of fastest 2-minute wind speed','ELEVATION','Direction of fastest 5-minute wind speed'])\n",
    "df.head()"
   ]
  },
  {
   "cell_type": "code",
   "execution_count": 141,
   "metadata": {},
   "outputs": [],
   "source": [
    "summer_weather=df.loc[(df['MONTH']=='May')|(df['MONTH']=='June')|(df['MONTH']=='July')|(df['MONTH']=='August')]\n"
   ]
  },
  {
   "cell_type": "code",
   "execution_count": 142,
   "metadata": {},
   "outputs": [],
   "source": [
    "mo_weather=summer_weather.loc[summer_weather['STATE']=='MISSOURI']\n",
    "tx_weather=summer_weather.loc[summer_weather['STATE']=='TEXAS']\n",
    "il_weather=summer_weather.loc[summer_weather['STATE']=='ILLINOIS']\n",
    "ia_weather=summer_weather.loc[summer_weather['STATE']=='IOWA']\n",
    "ks_weather=summer_weather.loc[summer_weather['STATE']=='KANSAS']"
   ]
  },
  {
   "cell_type": "code",
   "execution_count": 143,
   "metadata": {},
   "outputs": [],
   "source": [
    "group_tx_weather = tx_weather.groupby(['COUNTY_STATE','YEAR','MONTH'])\n",
    "group_mo_weather = mo_weather.groupby(['COUNTY_STATE','YEAR','MONTH'])\n",
    "group_il_weather = il_weather.groupby(['COUNTY_STATE','YEAR','MONTH'])\n",
    "group_ia_weather = ia_weather.groupby(['COUNTY_STATE','YEAR','MONTH'])\n",
    "group_ks_weather = ks_weather.groupby(['COUNTY_STATE','YEAR','MONTH'])\n"
   ]
  },
  {
   "cell_type": "code",
   "execution_count": 144,
   "metadata": {},
   "outputs": [],
   "source": [
    "tx_precip = pd.DataFrame(group_tx_weather['Precipitation (Inches)'].sum())\n",
    "tx_precip.reset_index(inplace=True)\n",
    "mo_precip = pd.DataFrame(group_mo_weather['Precipitation (Inches)'].sum())\n",
    "mo_precip.reset_index(inplace=True)\n",
    "il_precip = pd.DataFrame(group_il_weather['Precipitation (Inches)'].sum())\n",
    "il_precip.reset_index(inplace=True)\n",
    "ia_precip = pd.DataFrame(group_ia_weather['Precipitation (Inches)'].sum())\n",
    "ia_precip.reset_index(inplace=True)\n",
    "ks_precip = pd.DataFrame(group_ks_weather['Precipitation (Inches)'].sum())\n",
    "ks_precip.reset_index(inplace=True)"
   ]
  },
  {
   "cell_type": "code",
   "execution_count": 152,
   "metadata": {},
   "outputs": [],
   "source": [
    "tx_temp = pd.DataFrame(group_tx_weather[['Maximum temperature (F)', 'Minimum temperature (F)']].mean())\n",
    "mo_temp = pd.DataFrame(group_mo_weather[['Maximum temperature (F)', 'Minimum temperature (F)']].mean())\n",
    "il_temp = pd.DataFrame(group_il_weather[['Maximum temperature (F)', 'Minimum temperature (F)']].mean())\n",
    "ia_temp = pd.DataFrame(group_ia_weather[['Maximum temperature (F)', 'Minimum temperature (F)']].mean())\n",
    "ks_temp = pd.DataFrame(group_ks_weather[['Maximum temperature (F)', 'Minimum temperature (F)']].mean())\n"
   ]
  },
  {
   "cell_type": "code",
   "execution_count": 153,
   "metadata": {},
   "outputs": [
    {
     "data": {
      "text/html": [
       "<div>\n",
       "<style scoped>\n",
       "    .dataframe tbody tr th:only-of-type {\n",
       "        vertical-align: middle;\n",
       "    }\n",
       "\n",
       "    .dataframe tbody tr th {\n",
       "        vertical-align: top;\n",
       "    }\n",
       "\n",
       "    .dataframe thead th {\n",
       "        text-align: right;\n",
       "    }\n",
       "</style>\n",
       "<table border=\"1\" class=\"dataframe\">\n",
       "  <thead>\n",
       "    <tr style=\"text-align: right;\">\n",
       "      <th></th>\n",
       "      <th>COUNTY_STATE</th>\n",
       "      <th>YEAR</th>\n",
       "      <th>MONTH</th>\n",
       "      <th>Precipitation (Inches)</th>\n",
       "      <th>Maximum temperature (F)</th>\n",
       "      <th>Minimum temperature (F)</th>\n",
       "    </tr>\n",
       "  </thead>\n",
       "  <tbody>\n",
       "    <tr>\n",
       "      <th>0</th>\n",
       "      <td>ADAIR, MISSOURI</td>\n",
       "      <td>2000</td>\n",
       "      <td>August</td>\n",
       "      <td>3.33</td>\n",
       "      <td>84.466667</td>\n",
       "      <td>66.300000</td>\n",
       "    </tr>\n",
       "    <tr>\n",
       "      <th>1</th>\n",
       "      <td>ADAIR, MISSOURI</td>\n",
       "      <td>2000</td>\n",
       "      <td>July</td>\n",
       "      <td>1.58</td>\n",
       "      <td>82.466667</td>\n",
       "      <td>64.800000</td>\n",
       "    </tr>\n",
       "    <tr>\n",
       "      <th>2</th>\n",
       "      <td>ADAIR, MISSOURI</td>\n",
       "      <td>2000</td>\n",
       "      <td>June</td>\n",
       "      <td>6.94</td>\n",
       "      <td>78.666667</td>\n",
       "      <td>59.066667</td>\n",
       "    </tr>\n",
       "    <tr>\n",
       "      <th>3</th>\n",
       "      <td>ADAIR, MISSOURI</td>\n",
       "      <td>2000</td>\n",
       "      <td>May</td>\n",
       "      <td>0.72</td>\n",
       "      <td>75.935484</td>\n",
       "      <td>53.677419</td>\n",
       "    </tr>\n",
       "    <tr>\n",
       "      <th>4</th>\n",
       "      <td>ADAIR, MISSOURI</td>\n",
       "      <td>2001</td>\n",
       "      <td>August</td>\n",
       "      <td>4.99</td>\n",
       "      <td>83.241379</td>\n",
       "      <td>64.034483</td>\n",
       "    </tr>\n",
       "  </tbody>\n",
       "</table>\n",
       "</div>"
      ],
      "text/plain": [
       "      COUNTY_STATE  YEAR   MONTH  Precipitation (Inches)  \\\n",
       "0  ADAIR, MISSOURI  2000  August                    3.33   \n",
       "1  ADAIR, MISSOURI  2000    July                    1.58   \n",
       "2  ADAIR, MISSOURI  2000    June                    6.94   \n",
       "3  ADAIR, MISSOURI  2000     May                    0.72   \n",
       "4  ADAIR, MISSOURI  2001  August                    4.99   \n",
       "\n",
       "   Maximum temperature (F)  Minimum temperature (F)  \n",
       "0                84.466667                66.300000  \n",
       "1                82.466667                64.800000  \n",
       "2                78.666667                59.066667  \n",
       "3                75.935484                53.677419  \n",
       "4                83.241379                64.034483  "
      ]
     },
     "execution_count": 153,
     "metadata": {},
     "output_type": "execute_result"
    }
   ],
   "source": [
    "tx_monthly_summary = pd.merge(tx_precip, tx_temp, on=['COUNTY_STATE','YEAR','MONTH'])\n",
    "mo_monthly_summary = pd.merge(mo_precip, mo_temp, on=['COUNTY_STATE','YEAR','MONTH'])\n",
    "il_monthly_summary = pd.merge(il_precip, il_temp, on=['COUNTY_STATE','YEAR','MONTH'])\n",
    "ia_monthly_summary = pd.merge(ia_precip, ia_temp, on=['COUNTY_STATE','YEAR','MONTH'])\n",
    "ks_monthly_summary = pd.merge(ks_precip, ks_temp, on=['COUNTY_STATE','YEAR','MONTH'])\n",
    "mo_monthly_summary.head()"
   ]
  },
  {
   "cell_type": "code",
   "execution_count": 159,
   "metadata": {},
   "outputs": [],
   "source": [
    "tx_monthly_summary = tx_monthly_summary.rename(columns={'YEAR':\"Year\"})\n",
    "mo_monthly_summary = mo_monthly_summary.rename(columns={'YEAR':\"Year\"})\n",
    "il_monthly_summary = il_monthly_summary.rename(columns={'YEAR':\"Year\"})\n",
    "ia_monthly_summary = ia_monthly_summary.rename(columns={'YEAR':\"Year\"})\n",
    "ks_monthly_summary = ks_monthly_summary.rename(columns={'YEAR':\"Year\"})\n"
   ]
  },
  {
   "cell_type": "code",
   "execution_count": 160,
   "metadata": {
    "scrolled": true
   },
   "outputs": [],
   "source": [
    "mo_df = pd.merge(mo_monthly_summary, mo_yields_df, on = ['COUNTY_STATE','Year'])\n",
    "tx_df = pd.merge(tx_monthly_summary, tx_yields_df, on = ['COUNTY_STATE','Year'])\n",
    "il_df = pd.merge(il_monthly_summary, il_yields_df, on = ['COUNTY_STATE','Year'])\n",
    "ia_df = pd.merge(ia_monthly_summary, ia_yields_df, on = ['COUNTY_STATE','Year'])\n",
    "ks_df = pd.merge(ks_monthly_summary, ks_yields_df, on = ['COUNTY_STATE','Year'])"
   ]
  },
  {
   "cell_type": "code",
   "execution_count": 161,
   "metadata": {},
   "outputs": [],
   "source": [
    "mo_df.to_csv(\"mo_final.csv\")\n",
    "tx_df.to_csv(\"tx_final.csv\")\n",
    "il_df.to_csv(\"il_final.csv\")\n",
    "ia_df.to_csv(\"ia_final.csv\")\n",
    "ks_df.to_csv(\"ks_final.csv\")"
   ]
  },
  {
   "cell_type": "code",
   "execution_count": 158,
   "metadata": {},
   "outputs": [
    {
     "data": {
      "text/plain": [
       "<matplotlib.collections.PathCollection at 0x1321592f370>"
      ]
     },
     "execution_count": 158,
     "metadata": {},
     "output_type": "execute_result"
    },
    {
     "data": {
      "image/png": "[encoded data removed]",
      "text/plain": [
       "<Figure size 432x288 with 1 Axes>"
      ]
     },
     "metadata": {
      "needs_background": "light"
     },
     "output_type": "display_data"
    }
   ],
   "source": [
    "x_axis=mo_df['Soybean Yield']\n",
    "y_axis=mo_df['Precipitation (Inches)']\n",
    "plt.scatter(x_axis, y_axis)"
   ]
  }
 ],
 "metadata": {
  "kernelspec": {
   "display_name": "Python 3",
   "language": "python",
   "name": "python3"
  },
  "language_info": {
   "codemirror_mode": {
    "name": "ipython",
    "version": 3
   },
   "file_extension": ".py",
   "mimetype": "text/x-python",
   "name": "python",
   "nbconvert_exporter": "python",
   "pygments_lexer": "ipython3",
   "version": "3.8.5"
  }
 },
 "nbformat": 4,
 "nbformat_minor": 4
}
